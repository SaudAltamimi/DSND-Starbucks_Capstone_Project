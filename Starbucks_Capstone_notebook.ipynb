{
  "nbformat": 4,
  "nbformat_minor": 0,
  "metadata": {
    "kernelspec": {
      "display_name": "Python 3",
      "language": "python",
      "name": "python3"
    },
    "language_info": {
      "codemirror_mode": {
        "name": "ipython",
        "version": 3
      },
      "file_extension": ".py",
      "mimetype": "text/x-python",
      "name": "python",
      "nbconvert_exporter": "python",
      "pygments_lexer": "ipython3",
      "version": "3.6.3"
    },
    "colab": {
      "name": "Starbucks_Capstone_notebook.ipynb",
      "version": "0.3.2",
      "provenance": [],
      "include_colab_link": true
    }
  },
  "cells": [
    {
      "cell_type": "markdown",
      "metadata": {
        "id": "view-in-github",
        "colab_type": "text"
      },
      "source": [
        "<a href=\"https://colab.research.google.com/github/SaudAltamimi/DSND-Starbucks_Capstone_Project/blob/master/Starbucks_Capstone_notebook.ipynb\" target=\"_parent\"><img src=\"https://colab.research.google.com/assets/colab-badge.svg\" alt=\"Open In Colab\"/></a>"
      ]
    },
    {
      "cell_type": "markdown",
      "metadata": {
        "id": "XSLH8E6501Nd",
        "colab_type": "text"
      },
      "source": [
        "# Project Overview\n"
      ]
    },
    {
      "cell_type": "markdown",
      "metadata": {
        "id": "xS6JbojNkiw9",
        "colab_type": "text"
      },
      "source": [
        "\n",
        "##  Starbucks Capstone Challenge\n",
        "\n",
        "### Introduction\n",
        "\n",
        "This data set contains simulated data that mimics customer behavior on the Starbucks rewards mobile app. Once every few days, Starbucks sends out an offer to users of the mobile app. An offer can be merely an advertisement for a drink or an actual offer such as a discount or BOGO (buy one get one free). Some users might not receive any offer during certain weeks. \n",
        "\n",
        "Not all users receive the same offer, and that is the challenge to solve with this data set.\n",
        "\n",
        "Your task is to combine transaction, demographic and offer data to determine which demographic groups respond best to which offer type. This data set is a simplified version of the real Starbucks app because the underlying simulator only has one product whereas Starbucks actually sells dozens of products.\n",
        "\n",
        "Every offer has a validity period before the offer expires. As an example, a BOGO offer might be valid for only 5 days. You'll see in the data set that informational offers have a validity period even though these ads are merely providing information about a product; for example, if an informational offer has 7 days of validity, you can assume the customer is feeling the influence of the offer for 7 days after receiving the advertisement.\n",
        "\n",
        "You'll be given transactional data showing user purchases made on the app including the timestamp of purchase and the amount of money spent on a purchase. This transactional data also has a record for each offer that a user receives as well as a record for when a user actually views the offer. There are also records for when a user completes an offer. \n",
        "\n",
        "Keep in mind as well that someone using the app might make a purchase through the app without having received an offer or seen an offer.\n",
        "\n",
        "### Example\n",
        "\n",
        "To give an example, a user could receive a discount offer buy 10 dollars get 2 off on Monday. The offer is valid for 10 days from receipt. If the customer accumulates at least 10 dollars in purchases during the validity period, the customer completes the offer.\n",
        "\n",
        "However, there are a few things to watch out for in this data set. Customers do not opt into the offers that they receive; in other words, a user can receive an offer, never actually view the offer, and still complete the offer. For example, a user might receive the \"buy 10 dollars get 2 dollars off offer\", but the user never opens the offer during the 10 day validity period. The customer spends 15 dollars during those ten days. There will be an offer completion record in the data set; however, the customer was not influenced by the offer because the customer never viewed the offer.\n",
        "\n",
        "### Cleaning\n",
        "\n",
        "This makes data cleaning especially important and tricky.\n",
        "\n",
        "You'll also want to take into account that some demographic groups will make purchases even if they don't receive an offer. From a business perspective, if a customer is going to make a 10 dollar purchase without an offer anyway, you wouldn't want to send a buy 10 dollars get 2 dollars off offer. You'll want to try to assess what a certain demographic group will buy when not receiving any offers.\n",
        "\n",
        "### Final Advice\n",
        "\n",
        "Because this is a capstone project, you are free to analyze the data any way you see fit. For example, you could build a machine learning model that predicts how much someone will spend based on demographics and offer type. Or you could build a model that predicts whether or not someone will respond to an offer. Or, you don't need to build a machine learning model at all. You could develop a set of heuristics that determine what offer you should send to each customer (i.e., 75 percent of women customers who were 35 years old responded to offer A vs 40 percent from the same demographic to offer B, so send offer A)."
      ]
    },
    {
      "cell_type": "code",
      "metadata": {
        "id": "Jjdc0fMKvBLP",
        "colab_type": "code",
        "outputId": "d91e2d08-766b-4ad9-be98-39da13c0446e",
        "colab": {
          "base_uri": "https://localhost:8080/",
          "height": 558
        }
      },
      "source": [
        "# Downloading the data from github \n",
        "!git clone https://github.com/SaudAltamimi/DSND-Starbucks_Capstone_Project.git\n",
        "# updating pandas library\n",
        "!pip3 install --upgrade pandas "
      ],
      "execution_count": 1,
      "outputs": [
        {
          "output_type": "stream",
          "text": [
            "Cloning into 'DSND-Starbucks_Capstone_Project'...\n",
            "remote: Enumerating objects: 16, done.\u001b[K\n",
            "remote: Counting objects: 100% (16/16), done.\u001b[K\n",
            "remote: Compressing objects: 100% (15/15), done.\u001b[K\n",
            "remote: Total 16 (delta 5), reused 5 (delta 0), pack-reused 0\u001b[K\n",
            "Unpacking objects: 100% (16/16), done.\n",
            "Collecting pandas\n",
            "\u001b[?25l  Downloading https://files.pythonhosted.org/packages/73/9b/52e228545d14f14bb2a1622e225f38463c8726645165e1cb7dde95bfe6d4/pandas-0.25.1-cp36-cp36m-manylinux1_x86_64.whl (10.5MB)\n",
            "\u001b[K     |████████████████████████████████| 10.5MB 2.8MB/s \n",
            "\u001b[?25hRequirement already satisfied, skipping upgrade: pytz>=2017.2 in /usr/local/lib/python3.6/dist-packages (from pandas) (2018.9)\n",
            "Requirement already satisfied, skipping upgrade: numpy>=1.13.3 in /usr/local/lib/python3.6/dist-packages (from pandas) (1.16.4)\n",
            "Collecting python-dateutil>=2.6.1 (from pandas)\n",
            "\u001b[?25l  Downloading https://files.pythonhosted.org/packages/41/17/c62faccbfbd163c7f57f3844689e3a78bae1f403648a6afb1d0866d87fbb/python_dateutil-2.8.0-py2.py3-none-any.whl (226kB)\n",
            "\u001b[K     |████████████████████████████████| 235kB 52.9MB/s \n",
            "\u001b[?25hRequirement already satisfied, skipping upgrade: six>=1.5 in /usr/local/lib/python3.6/dist-packages (from python-dateutil>=2.6.1->pandas) (1.12.0)\n",
            "\u001b[31mERROR: google-colab 1.0.0 has requirement pandas~=0.24.0, but you'll have pandas 0.25.1 which is incompatible.\u001b[0m\n",
            "\u001b[31mERROR: albumentations 0.1.12 has requirement imgaug<0.2.7,>=0.2.5, but you'll have imgaug 0.2.9 which is incompatible.\u001b[0m\n",
            "Installing collected packages: python-dateutil, pandas\n",
            "  Found existing installation: python-dateutil 2.5.3\n",
            "    Uninstalling python-dateutil-2.5.3:\n",
            "      Successfully uninstalled python-dateutil-2.5.3\n",
            "  Found existing installation: pandas 0.24.2\n",
            "    Uninstalling pandas-0.24.2:\n",
            "      Successfully uninstalled pandas-0.24.2\n",
            "Successfully installed pandas-0.25.1 python-dateutil-2.8.0\n"
          ],
          "name": "stdout"
        },
        {
          "output_type": "display_data",
          "data": {
            "application/vnd.colab-display-data+json": {
              "pip_warning": {
                "packages": [
                  "dateutil",
                  "pandas"
                ]
              }
            }
          },
          "metadata": {
            "tags": []
          }
        }
      ]
    },
    {
      "cell_type": "markdown",
      "metadata": {
        "id": "E7cS65WckixH",
        "colab_type": "text"
      },
      "source": [
        "# Reading the data"
      ]
    },
    {
      "cell_type": "code",
      "metadata": {
        "id": "IHgWBOuKkixI",
        "colab_type": "code",
        "colab": {}
      },
      "source": [
        "import pandas as pd\n",
        "import numpy as np\n",
        "import math\n",
        "import json\n",
        "import seaborn as sns \n",
        "%matplotlib inline\n",
        "\n",
        "# read in the json files\n",
        "path_to_data = 'DSND-Starbucks_Capstone_Project/data/'\n",
        "portfolio = pd.read_json(path_to_data + 'portfolio.json', orient='records', lines=True)\n",
        "profile = pd.read_json(path_to_data + 'profile.json', orient='records', lines=True)\n",
        "transcript = pd.read_json(path_to_data + 'transcript.json', orient='records', lines=True)"
      ],
      "execution_count": 0,
      "outputs": []
    },
    {
      "cell_type": "markdown",
      "metadata": {
        "id": "GA9NxGdp0_8O",
        "colab_type": "text"
      },
      "source": [
        "# Problem Statement"
      ]
    },
    {
      "cell_type": "markdown",
      "metadata": {
        "id": "SCNcw5sn1C3t",
        "colab_type": "text"
      },
      "source": [
        ""
      ]
    },
    {
      "cell_type": "markdown",
      "metadata": {
        "id": "xUXTi40EkixL",
        "colab_type": "text"
      },
      "source": [
        "## Data Sets description and view\n",
        "\n",
        "### The data is contained in three files:\n"
      ]
    },
    {
      "cell_type": "markdown",
      "metadata": {
        "id": "tWTa0uak_DbO",
        "colab_type": "text"
      },
      "source": [
        "####portfolio.json"
      ]
    },
    {
      "cell_type": "markdown",
      "metadata": {
        "id": "2mDcRwiBkixM",
        "colab_type": "text"
      },
      "source": [
        "\n",
        "\n",
        "> portfolio.json - containing offer ids and meta data about each offer (duration, type, etc.)\n",
        "\n",
        "**The schema and explanation of each variable:**\n",
        "* id (string) - offer id\n",
        "* offer_type (string) - type of offer ie BOGO, discount, informational.\n",
        "> **BOGO**: buy one get one free.\n",
        "> **Informational**: an advertisement for a drink. \n",
        "\n",
        "* difficulty (int) - minimum required spend to complete an offer.\n",
        "* reward (int) - reward given for completing an offer.\n",
        "* duration (int) - time for offer to be open, in days (validity period).\n",
        "> Every offer has a validity period before the offer expires. As an example, a BOGO offer might be valid for only 5 days. You'll see in the data set that informational offers have a validity period even though these ads are merely providing information about a product; for example, if an informational offer has 7 days of validity, you can assume the customer is feeling the influence of the offer for 7 days after receiving the advertisement.\n",
        "* channels (list of strings),\n",
        " > ['email', 'mobile', 'social', 'web']\n"
      ]
    },
    {
      "cell_type": "code",
      "metadata": {
        "id": "2-Z3fn48kixN",
        "colab_type": "code",
        "outputId": "fd8e2922-0027-4ef5-9a2a-aa3006e64045",
        "colab": {
          "base_uri": "https://localhost:8080/",
          "height": 370
        }
      },
      "source": [
        "display(portfolio.head(2))\n",
        "display(portfolio.shape)\n",
        "print(\"\\nNULLS precentages for each column:\\n\")\n",
        "display(portfolio.isna().mean())"
      ],
      "execution_count": 2,
      "outputs": [
        {
          "output_type": "display_data",
          "data": {
            "text/html": [
              "<div>\n",
              "<style scoped>\n",
              "    .dataframe tbody tr th:only-of-type {\n",
              "        vertical-align: middle;\n",
              "    }\n",
              "\n",
              "    .dataframe tbody tr th {\n",
              "        vertical-align: top;\n",
              "    }\n",
              "\n",
              "    .dataframe thead th {\n",
              "        text-align: right;\n",
              "    }\n",
              "</style>\n",
              "<table border=\"1\" class=\"dataframe\">\n",
              "  <thead>\n",
              "    <tr style=\"text-align: right;\">\n",
              "      <th></th>\n",
              "      <th>reward</th>\n",
              "      <th>channels</th>\n",
              "      <th>difficulty</th>\n",
              "      <th>duration</th>\n",
              "      <th>offer_type</th>\n",
              "      <th>id</th>\n",
              "    </tr>\n",
              "  </thead>\n",
              "  <tbody>\n",
              "    <tr>\n",
              "      <td>0</td>\n",
              "      <td>10</td>\n",
              "      <td>[email, mobile, social]</td>\n",
              "      <td>10</td>\n",
              "      <td>7</td>\n",
              "      <td>bogo</td>\n",
              "      <td>ae264e3637204a6fb9bb56bc8210ddfd</td>\n",
              "    </tr>\n",
              "    <tr>\n",
              "      <td>1</td>\n",
              "      <td>10</td>\n",
              "      <td>[web, email, mobile, social]</td>\n",
              "      <td>10</td>\n",
              "      <td>5</td>\n",
              "      <td>bogo</td>\n",
              "      <td>4d5c57ea9a6940dd891ad53e9dbe8da0</td>\n",
              "    </tr>\n",
              "  </tbody>\n",
              "</table>\n",
              "</div>"
            ],
            "text/plain": [
              "   reward  ...                                id\n",
              "0      10  ...  ae264e3637204a6fb9bb56bc8210ddfd\n",
              "1      10  ...  4d5c57ea9a6940dd891ad53e9dbe8da0\n",
              "\n",
              "[2 rows x 6 columns]"
            ]
          },
          "metadata": {
            "tags": []
          }
        },
        {
          "output_type": "display_data",
          "data": {
            "text/plain": [
              "(10, 6)"
            ]
          },
          "metadata": {
            "tags": []
          }
        },
        {
          "output_type": "stream",
          "text": [
            "\n",
            "NULLS precentages for each column:\n",
            "\n"
          ],
          "name": "stdout"
        },
        {
          "output_type": "display_data",
          "data": {
            "text/plain": [
              "reward        0.0\n",
              "channels      0.0\n",
              "difficulty    0.0\n",
              "duration      0.0\n",
              "offer_type    0.0\n",
              "id            0.0\n",
              "dtype: float64"
            ]
          },
          "metadata": {
            "tags": []
          }
        }
      ]
    },
    {
      "cell_type": "markdown",
      "metadata": {
        "id": "rrZ4vo9UK5ye",
        "colab_type": "text"
      },
      "source": [
        "> We have 10 types of offer."
      ]
    },
    {
      "cell_type": "code",
      "metadata": {
        "id": "hQ-d0-GtK_Eg",
        "colab_type": "code",
        "outputId": "730278c3-8536-4a09-dcbb-517d5ee325fd",
        "colab": {
          "base_uri": "https://localhost:8080/",
          "height": 104
        }
      },
      "source": [
        "# What type of offer do we have the most?\n",
        "print(\"Offer types and it's counts :\" )\n",
        "(portfolio.offer_type.value_counts())"
      ],
      "execution_count": 3,
      "outputs": [
        {
          "output_type": "stream",
          "text": [
            "Offer types and it's counts :\n"
          ],
          "name": "stdout"
        },
        {
          "output_type": "execute_result",
          "data": {
            "text/plain": [
              "bogo             4\n",
              "discount         4\n",
              "informational    2\n",
              "Name: offer_type, dtype: int64"
            ]
          },
          "metadata": {
            "tags": []
          },
          "execution_count": 3
        }
      ]
    },
    {
      "cell_type": "markdown",
      "metadata": {
        "id": "PiJsh4eO_Iu_",
        "colab_type": "text"
      },
      "source": [
        "####profile.json"
      ]
    },
    {
      "cell_type": "markdown",
      "metadata": {
        "id": "CWtaMRmPkixR",
        "colab_type": "text"
      },
      "source": [
        "\n",
        "\n",
        "> profile.json - demographic data for each customer\n",
        "\n",
        "**The schema and explanation of each variable:**\n",
        "\n",
        "* age (int) - age of the customer \n",
        "* became_member_on (int) - date when customer created an app account\n",
        "> Another feature can be extracted from this, time passed since this customer was added as a member (days).  \n",
        "\n",
        "* gender (str) - gender of the customer (note some entries contain 'O' for other rather than M or F)\n",
        "* id (str) - customer id\n",
        "* income (float) - customer's income\n",
        "\n"
      ]
    },
    {
      "cell_type": "code",
      "metadata": {
        "id": "o2LBhS2qkixS",
        "colab_type": "code",
        "outputId": "7f5388bd-919c-4ed2-dc86-1cf7c21aa56e",
        "colab": {
          "base_uri": "https://localhost:8080/",
          "height": 283
        }
      },
      "source": [
        "display(profile.head(2))\n",
        "display(profile.shape)\n",
        "print(\"\\nNULLS precentages for each column:\\n\")\n",
        "display(profile.isna().mean())"
      ],
      "execution_count": 0,
      "outputs": [
        {
          "output_type": "display_data",
          "data": {
            "text/html": [
              "<div>\n",
              "<style scoped>\n",
              "    .dataframe tbody tr th:only-of-type {\n",
              "        vertical-align: middle;\n",
              "    }\n",
              "\n",
              "    .dataframe tbody tr th {\n",
              "        vertical-align: top;\n",
              "    }\n",
              "\n",
              "    .dataframe thead th {\n",
              "        text-align: right;\n",
              "    }\n",
              "</style>\n",
              "<table border=\"1\" class=\"dataframe\">\n",
              "  <thead>\n",
              "    <tr style=\"text-align: right;\">\n",
              "      <th></th>\n",
              "      <th>gender</th>\n",
              "      <th>age</th>\n",
              "      <th>id</th>\n",
              "      <th>became_member_on</th>\n",
              "      <th>income</th>\n",
              "    </tr>\n",
              "  </thead>\n",
              "  <tbody>\n",
              "    <tr>\n",
              "      <td>0</td>\n",
              "      <td>None</td>\n",
              "      <td>118</td>\n",
              "      <td>68be06ca386d4c31939f3a4f0e3dd783</td>\n",
              "      <td>20170212</td>\n",
              "      <td>NaN</td>\n",
              "    </tr>\n",
              "    <tr>\n",
              "      <td>1</td>\n",
              "      <td>F</td>\n",
              "      <td>55</td>\n",
              "      <td>0610b486422d4921ae7d2bf64640c50b</td>\n",
              "      <td>20170715</td>\n",
              "      <td>112000.0</td>\n",
              "    </tr>\n",
              "  </tbody>\n",
              "</table>\n",
              "</div>"
            ],
            "text/plain": [
              "  gender  age                                id  became_member_on    income\n",
              "0   None  118  68be06ca386d4c31939f3a4f0e3dd783          20170212       NaN\n",
              "1      F   55  0610b486422d4921ae7d2bf64640c50b          20170715  112000.0"
            ]
          },
          "metadata": {
            "tags": []
          }
        },
        {
          "output_type": "display_data",
          "data": {
            "text/plain": [
              "(17000, 5)"
            ]
          },
          "metadata": {
            "tags": []
          }
        },
        {
          "output_type": "stream",
          "text": [
            "\n",
            "NULLS precentages for each column:\n",
            "\n"
          ],
          "name": "stdout"
        },
        {
          "output_type": "display_data",
          "data": {
            "text/plain": [
              "gender              0.127941\n",
              "age                 0.000000\n",
              "id                  0.000000\n",
              "became_member_on    0.000000\n",
              "income              0.127941\n",
              "dtype: float64"
            ]
          },
          "metadata": {
            "tags": []
          }
        }
      ]
    },
    {
      "cell_type": "code",
      "metadata": {
        "id": "pzK8dHIh651h",
        "colab_type": "code",
        "outputId": "7e9506c5-2885-45bb-abb6-f952980b5c0a",
        "colab": {
          "base_uri": "https://localhost:8080/",
          "height": 387
        }
      },
      "source": [
        "# Could we predict the missing income using the age only? \n",
        "# Using simple regrission? \n",
        "# Ans: we can't do this as seen from the plot below, \n",
        " # due to the unrealistic simulated data.\n",
        " # But, We can give it a try and see how accurate we can get.\n",
        "display(\n",
        "    sns.lmplot(data=profile,\n",
        "                   x='age',\n",
        "                   y='income',\n",
        "                   scatter_kws={\"s\": 0.5}\n",
        "               )\n",
        "    );\n",
        "\n"
      ],
      "execution_count": 0,
      "outputs": [
        {
          "output_type": "display_data",
          "data": {
            "text/plain": [
              "<seaborn.axisgrid.FacetGrid at 0x7f1f1e230588>"
            ]
          },
          "metadata": {
            "tags": []
          }
        },
        {
          "output_type": "display_data",
          "data": {
            "image/png": "[encoded data removed]",
            "text/plain": [
              "<Figure size 360x360 with 1 Axes>"
            ]
          },
          "metadata": {
            "tags": []
          }
        }
      ]
    },
    {
      "cell_type": "markdown",
      "metadata": {
        "id": "Rhz972nG_Mxz",
        "colab_type": "text"
      },
      "source": [
        "####transcript.json"
      ]
    },
    {
      "cell_type": "markdown",
      "metadata": {
        "id": "_IVki1ypkixa",
        "colab_type": "text"
      },
      "source": [
        "\n",
        "> transcript.json - records for transactions, offers received, offers viewed, and offers completed\n",
        "\n",
        "**The schema and explanation of each variable:**\n",
        "\n",
        "* event (str) - record description (ie transaction, offer received, offer viewed, etc.)\n",
        "* person (str) - customer id\n",
        "* time (int) - time in hours since start of test. The data begins at time t=0\n",
        "* value - (dict of strings) - either an offer id or transaction amount depending on the record"
      ]
    },
    {
      "cell_type": "code",
      "metadata": {
        "id": "cQgEV4V3kixb",
        "colab_type": "code",
        "outputId": "a776d3f2-85fc-4446-c66c-c15c0111a1be",
        "colab": {
          "base_uri": "https://localhost:8080/",
          "height": 301
        }
      },
      "source": [
        "display(transcript.head(2))\n",
        "display(transcript.shape)\n",
        "print(\"\\nNULLS precentages for each column:\\n\")\n",
        "display(transcript.isna().mean())"
      ],
      "execution_count": 0,
      "outputs": [
        {
          "output_type": "display_data",
          "data": {
            "text/html": [
              "<div>\n",
              "<style scoped>\n",
              "    .dataframe tbody tr th:only-of-type {\n",
              "        vertical-align: middle;\n",
              "    }\n",
              "\n",
              "    .dataframe tbody tr th {\n",
              "        vertical-align: top;\n",
              "    }\n",
              "\n",
              "    .dataframe thead th {\n",
              "        text-align: right;\n",
              "    }\n",
              "</style>\n",
              "<table border=\"1\" class=\"dataframe\">\n",
              "  <thead>\n",
              "    <tr style=\"text-align: right;\">\n",
              "      <th></th>\n",
              "      <th>person</th>\n",
              "      <th>event</th>\n",
              "      <th>value</th>\n",
              "      <th>time</th>\n",
              "    </tr>\n",
              "  </thead>\n",
              "  <tbody>\n",
              "    <tr>\n",
              "      <td>0</td>\n",
              "      <td>78afa995795e4d85b5d9ceeca43f5fef</td>\n",
              "      <td>offer received</td>\n",
              "      <td>{'offer id': '9b98b8c7a33c4b65b9aebfe6a799e6d9'}</td>\n",
              "      <td>0</td>\n",
              "    </tr>\n",
              "    <tr>\n",
              "      <td>1</td>\n",
              "      <td>a03223e636434f42ac4c3df47e8bac43</td>\n",
              "      <td>offer received</td>\n",
              "      <td>{'offer id': '0b1e1539f2cc45b7b9fa7c272da2e1d7'}</td>\n",
              "      <td>0</td>\n",
              "    </tr>\n",
              "  </tbody>\n",
              "</table>\n",
              "</div>"
            ],
            "text/plain": [
              "                             person  ... time\n",
              "0  78afa995795e4d85b5d9ceeca43f5fef  ...    0\n",
              "1  a03223e636434f42ac4c3df47e8bac43  ...    0\n",
              "\n",
              "[2 rows x 4 columns]"
            ]
          },
          "metadata": {
            "tags": []
          }
        },
        {
          "output_type": "display_data",
          "data": {
            "text/plain": [
              "(306534, 4)"
            ]
          },
          "metadata": {
            "tags": []
          }
        },
        {
          "output_type": "stream",
          "text": [
            "\n",
            "NULLS precentages for each column:\n",
            "\n"
          ],
          "name": "stdout"
        },
        {
          "output_type": "display_data",
          "data": {
            "text/plain": [
              "person    0.0\n",
              "event     0.0\n",
              "value     0.0\n",
              "time      0.0\n",
              "dtype: float64"
            ]
          },
          "metadata": {
            "tags": []
          }
        }
      ]
    },
    {
      "cell_type": "code",
      "metadata": {
        "id": "zu19wTYZBSui",
        "colab_type": "code",
        "outputId": "ea46803a-6774-4de2-b295-85ccf5257dd6",
        "colab": {
          "base_uri": "https://localhost:8080/",
          "height": 104
        }
      },
      "source": [
        "# What kind of events do we have? \n",
        "transcript.event.value_counts('%')"
      ],
      "execution_count": 0,
      "outputs": [
        {
          "output_type": "execute_result",
          "data": {
            "text/plain": [
              "transaction        0.453304\n",
              "offer received     0.248837\n",
              "offer viewed       0.188315\n",
              "offer completed    0.109544\n",
              "Name: event, dtype: float64"
            ]
          },
          "metadata": {
            "tags": []
          },
          "execution_count": 6
        }
      ]
    },
    {
      "cell_type": "code",
      "metadata": {
        "id": "EB7I-dhK9RwB",
        "colab_type": "code",
        "outputId": "33d94ef0-97c6-4aa6-e0ae-8523dc5704b2",
        "colab": {
          "base_uri": "https://localhost:8080/",
          "height": 809
        }
      },
      "source": [
        "# Taking one person as an example of what's happening in the data? \n",
        "print('A history example of one person:')\n",
        "transcript[transcript.person.isin(['78afa995795e4d85b5d9ceeca43f5fef'])]"
      ],
      "execution_count": 5,
      "outputs": [
        {
          "output_type": "stream",
          "text": [
            "A history example of one person:\n"
          ],
          "name": "stdout"
        },
        {
          "output_type": "execute_result",
          "data": {
            "text/html": [
              "<div>\n",
              "<style scoped>\n",
              "    .dataframe tbody tr th:only-of-type {\n",
              "        vertical-align: middle;\n",
              "    }\n",
              "\n",
              "    .dataframe tbody tr th {\n",
              "        vertical-align: top;\n",
              "    }\n",
              "\n",
              "    .dataframe thead th {\n",
              "        text-align: right;\n",
              "    }\n",
              "</style>\n",
              "<table border=\"1\" class=\"dataframe\">\n",
              "  <thead>\n",
              "    <tr style=\"text-align: right;\">\n",
              "      <th></th>\n",
              "      <th>person</th>\n",
              "      <th>event</th>\n",
              "      <th>value</th>\n",
              "      <th>time</th>\n",
              "    </tr>\n",
              "  </thead>\n",
              "  <tbody>\n",
              "    <tr>\n",
              "      <td>0</td>\n",
              "      <td>78afa995795e4d85b5d9ceeca43f5fef</td>\n",
              "      <td>offer received</td>\n",
              "      <td>{'offer id': '9b98b8c7a33c4b65b9aebfe6a799e6d9'}</td>\n",
              "      <td>0</td>\n",
              "    </tr>\n",
              "    <tr>\n",
              "      <td>15561</td>\n",
              "      <td>78afa995795e4d85b5d9ceeca43f5fef</td>\n",
              "      <td>offer viewed</td>\n",
              "      <td>{'offer id': '9b98b8c7a33c4b65b9aebfe6a799e6d9'}</td>\n",
              "      <td>6</td>\n",
              "    </tr>\n",
              "    <tr>\n",
              "      <td>47582</td>\n",
              "      <td>78afa995795e4d85b5d9ceeca43f5fef</td>\n",
              "      <td>transaction</td>\n",
              "      <td>{'amount': 19.89}</td>\n",
              "      <td>132</td>\n",
              "    </tr>\n",
              "    <tr>\n",
              "      <td>47583</td>\n",
              "      <td>78afa995795e4d85b5d9ceeca43f5fef</td>\n",
              "      <td>offer completed</td>\n",
              "      <td>{'offer_id': '9b98b8c7a33c4b65b9aebfe6a799e6d9...</td>\n",
              "      <td>132</td>\n",
              "    </tr>\n",
              "    <tr>\n",
              "      <td>49502</td>\n",
              "      <td>78afa995795e4d85b5d9ceeca43f5fef</td>\n",
              "      <td>transaction</td>\n",
              "      <td>{'amount': 17.78}</td>\n",
              "      <td>144</td>\n",
              "    </tr>\n",
              "    <tr>\n",
              "      <td>53176</td>\n",
              "      <td>78afa995795e4d85b5d9ceeca43f5fef</td>\n",
              "      <td>offer received</td>\n",
              "      <td>{'offer id': '5a8bc65990b245e5a138643cd4eb9837'}</td>\n",
              "      <td>168</td>\n",
              "    </tr>\n",
              "    <tr>\n",
              "      <td>85291</td>\n",
              "      <td>78afa995795e4d85b5d9ceeca43f5fef</td>\n",
              "      <td>offer viewed</td>\n",
              "      <td>{'offer id': '5a8bc65990b245e5a138643cd4eb9837'}</td>\n",
              "      <td>216</td>\n",
              "    </tr>\n",
              "    <tr>\n",
              "      <td>87134</td>\n",
              "      <td>78afa995795e4d85b5d9ceeca43f5fef</td>\n",
              "      <td>transaction</td>\n",
              "      <td>{'amount': 19.67}</td>\n",
              "      <td>222</td>\n",
              "    </tr>\n",
              "    <tr>\n",
              "      <td>92104</td>\n",
              "      <td>78afa995795e4d85b5d9ceeca43f5fef</td>\n",
              "      <td>transaction</td>\n",
              "      <td>{'amount': 29.72}</td>\n",
              "      <td>240</td>\n",
              "    </tr>\n",
              "    <tr>\n",
              "      <td>141566</td>\n",
              "      <td>78afa995795e4d85b5d9ceeca43f5fef</td>\n",
              "      <td>transaction</td>\n",
              "      <td>{'amount': 23.93}</td>\n",
              "      <td>378</td>\n",
              "    </tr>\n",
              "    <tr>\n",
              "      <td>150598</td>\n",
              "      <td>78afa995795e4d85b5d9ceeca43f5fef</td>\n",
              "      <td>offer received</td>\n",
              "      <td>{'offer id': 'ae264e3637204a6fb9bb56bc8210ddfd'}</td>\n",
              "      <td>408</td>\n",
              "    </tr>\n",
              "    <tr>\n",
              "      <td>163375</td>\n",
              "      <td>78afa995795e4d85b5d9ceeca43f5fef</td>\n",
              "      <td>offer viewed</td>\n",
              "      <td>{'offer id': 'ae264e3637204a6fb9bb56bc8210ddfd'}</td>\n",
              "      <td>408</td>\n",
              "    </tr>\n",
              "    <tr>\n",
              "      <td>201572</td>\n",
              "      <td>78afa995795e4d85b5d9ceeca43f5fef</td>\n",
              "      <td>offer received</td>\n",
              "      <td>{'offer id': 'f19421c1d4aa40978ebb69ca19b0e20d'}</td>\n",
              "      <td>504</td>\n",
              "    </tr>\n",
              "    <tr>\n",
              "      <td>218393</td>\n",
              "      <td>78afa995795e4d85b5d9ceeca43f5fef</td>\n",
              "      <td>transaction</td>\n",
              "      <td>{'amount': 21.72}</td>\n",
              "      <td>510</td>\n",
              "    </tr>\n",
              "    <tr>\n",
              "      <td>218394</td>\n",
              "      <td>78afa995795e4d85b5d9ceeca43f5fef</td>\n",
              "      <td>offer completed</td>\n",
              "      <td>{'offer_id': 'ae264e3637204a6fb9bb56bc8210ddfd...</td>\n",
              "      <td>510</td>\n",
              "    </tr>\n",
              "    <tr>\n",
              "      <td>218395</td>\n",
              "      <td>78afa995795e4d85b5d9ceeca43f5fef</td>\n",
              "      <td>offer completed</td>\n",
              "      <td>{'offer_id': 'f19421c1d4aa40978ebb69ca19b0e20d...</td>\n",
              "      <td>510</td>\n",
              "    </tr>\n",
              "    <tr>\n",
              "      <td>230412</td>\n",
              "      <td>78afa995795e4d85b5d9ceeca43f5fef</td>\n",
              "      <td>transaction</td>\n",
              "      <td>{'amount': 26.56}</td>\n",
              "      <td>534</td>\n",
              "    </tr>\n",
              "    <tr>\n",
              "      <td>262138</td>\n",
              "      <td>78afa995795e4d85b5d9ceeca43f5fef</td>\n",
              "      <td>offer viewed</td>\n",
              "      <td>{'offer id': 'f19421c1d4aa40978ebb69ca19b0e20d'}</td>\n",
              "      <td>582</td>\n",
              "    </tr>\n",
              "  </tbody>\n",
              "</table>\n",
              "</div>"
            ],
            "text/plain": [
              "                                  person  ... time\n",
              "0       78afa995795e4d85b5d9ceeca43f5fef  ...    0\n",
              "15561   78afa995795e4d85b5d9ceeca43f5fef  ...    6\n",
              "47582   78afa995795e4d85b5d9ceeca43f5fef  ...  132\n",
              "47583   78afa995795e4d85b5d9ceeca43f5fef  ...  132\n",
              "49502   78afa995795e4d85b5d9ceeca43f5fef  ...  144\n",
              "53176   78afa995795e4d85b5d9ceeca43f5fef  ...  168\n",
              "85291   78afa995795e4d85b5d9ceeca43f5fef  ...  216\n",
              "87134   78afa995795e4d85b5d9ceeca43f5fef  ...  222\n",
              "92104   78afa995795e4d85b5d9ceeca43f5fef  ...  240\n",
              "141566  78afa995795e4d85b5d9ceeca43f5fef  ...  378\n",
              "150598  78afa995795e4d85b5d9ceeca43f5fef  ...  408\n",
              "163375  78afa995795e4d85b5d9ceeca43f5fef  ...  408\n",
              "201572  78afa995795e4d85b5d9ceeca43f5fef  ...  504\n",
              "218393  78afa995795e4d85b5d9ceeca43f5fef  ...  510\n",
              "218394  78afa995795e4d85b5d9ceeca43f5fef  ...  510\n",
              "218395  78afa995795e4d85b5d9ceeca43f5fef  ...  510\n",
              "230412  78afa995795e4d85b5d9ceeca43f5fef  ...  534\n",
              "262138  78afa995795e4d85b5d9ceeca43f5fef  ...  582\n",
              "\n",
              "[18 rows x 4 columns]"
            ]
          },
          "metadata": {
            "tags": []
          },
          "execution_count": 5
        }
      ]
    },
    {
      "cell_type": "markdown",
      "metadata": {
        "id": "Hm0vv6CPkixf",
        "colab_type": "text"
      },
      "source": [
        "# Intersting questions raised"
      ]
    },
    {
      "cell_type": "markdown",
      "metadata": {
        "id": "9_p-hN4xkixg",
        "colab_type": "text"
      },
      "source": [
        "\n",
        "\n",
        "*   List item\n",
        "*   List item\n",
        "\n"
      ]
    },
    {
      "cell_type": "markdown",
      "metadata": {
        "id": "gjH03dno-TqP",
        "colab_type": "text"
      },
      "source": [
        "## Setting Goals\n",
        "\n",
        "\n",
        "1.   We would like to help business to identify what kind of people who are likely would be influnced by a sepicifc offer (or many offers), from those who are not.\n",
        "2.   We would also need to indetify people who do not need any offer to be influnced.\n",
        "\n",
        "### The final dataset that could help us achieve those goals:\n",
        "\n",
        "We would need a complete track of each person history, a records of his interactions with the offers and his average transaction (an overall average and a time series average) to be able to identify how important this customer to the business. So, In adition to the demographic that we have, we could add more features to it like:\n",
        "\n",
        "1. How long is the customer been a member for the starbux app? (current_date - became_member_on).\n",
        "2. Overall average transaction for each customer.\n",
        "3. An average weekly transaction for each customer (How much each customer would pay each week?).\n",
        "> Choosing a week is an arbitrary choice , This could be changed to two weeks or a month, it has to be discussed with the business. \n",
        "4. A score for each offer type (10 features), between 1 and -1, indicating how likely each customer will be influnced by a specific offer.\n",
        "> How can we create such a score? We could create a score counter for each customer from the trascript table, if the customer has influnced by a specific offer (offer completed), then add 1, if he has not, then add -1, otherwise give him the counter would be 0, which indicates that he either has not seen the offer or has not recieved it at all. And then averaging those score would give a score between 1 and -1 (if the counts of -1 more then the counts of 1, then the score would be closer to -1, the oppiste is the same).\n",
        "\n",
        "\n",
        "\n"
      ]
    },
    {
      "cell_type": "markdown",
      "metadata": {
        "id": "Y2KYoWpEkixh",
        "colab_type": "text"
      },
      "source": [
        "# Explortary Data Analysis \n",
        "> This section is for answering and commenting on each question raised above.\n",
        "\n",
        "> It will also contains addressing some of the data issues that are present to be corrected in the next section."
      ]
    },
    {
      "cell_type": "markdown",
      "metadata": {
        "id": "Z7TLtbo0kixn",
        "colab_type": "text"
      },
      "source": [
        "# Data Cleaning & Preprossing"
      ]
    },
    {
      "cell_type": "markdown",
      "metadata": {
        "id": "-YTU9mR1LNTI",
        "colab_type": "text"
      },
      "source": [
        "#### Cleansing the demographic data\n",
        "> The problem with this data was the missing data for in gender & income columns, we could clean this using predctions, age would be an identifier of the income, and then using income and age to predict the gender type. \n"
      ]
    },
    {
      "cell_type": "code",
      "metadata": {
        "id": "I9OwVQsuL2Wi",
        "colab_type": "code",
        "colab": {}
      },
      "source": [
        "# predicting income using age as features with regrission? \n",
        "features = \n",
        "\n",
        "targets = \n",
        "\n",
        "# fitting the model\n",
        "\n",
        "# Testing how well the model can work? \n",
        "# using k-fold cross validation\n",
        "\n",
        "# predicting the missing data\n",
        "\n"
      ],
      "execution_count": 0,
      "outputs": []
    },
    {
      "cell_type": "code",
      "metadata": {
        "id": "MpIBeObKMbnQ",
        "colab_type": "code",
        "colab": {}
      },
      "source": [
        "# Predicting the gender type using income & age as features.\n",
        "features = \n",
        "\n",
        "targets = \n",
        "\n",
        "# fitting the model\n",
        "\n",
        "# Testing how well the model can work? \n",
        "# using k-fold cross validation\n",
        "\n",
        "# predicting the missing data\n"
      ],
      "execution_count": 0,
      "outputs": []
    },
    {
      "cell_type": "markdown",
      "metadata": {
        "id": "Agbob7KDM_2x",
        "colab_type": "text"
      },
      "source": [
        "#### Cleansing the value column in the trasncript data:\n"
      ]
    },
    {
      "cell_type": "code",
      "metadata": {
        "id": "Fxdqc57yNWCI",
        "colab_type": "code",
        "colab": {}
      },
      "source": [
        ""
      ],
      "execution_count": 0,
      "outputs": []
    },
    {
      "cell_type": "markdown",
      "metadata": {
        "id": "pIW4PW6RNXMt",
        "colab_type": "text"
      },
      "source": [
        ""
      ]
    },
    {
      "cell_type": "code",
      "metadata": {
        "id": "t1VzZNGHkixr",
        "colab_type": "code",
        "colab": {}
      },
      "source": [
        ""
      ],
      "execution_count": 0,
      "outputs": []
    },
    {
      "cell_type": "markdown",
      "metadata": {
        "id": "pWq4cmMxkixu",
        "colab_type": "text"
      },
      "source": [
        ""
      ]
    }
  ]
}